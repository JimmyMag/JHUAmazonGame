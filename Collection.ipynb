{
 "cells": [
  {
   "cell_type": "markdown",
   "metadata": {},
   "source": [
    "Uncomment below to install keepa python wrapper package, if necessary.  Found here: https://github.com/akaszynski/keepa"
   ]
  },
  {
   "cell_type": "code",
   "execution_count": 1,
   "metadata": {
    "ExecuteTime": {
     "end_time": "2019-04-05T04:00:17.549780Z",
     "start_time": "2019-04-05T04:00:17.541781Z"
    }
   },
   "outputs": [],
   "source": [
    "#!pip install keepa"
   ]
  },
  {
   "cell_type": "code",
   "execution_count": 2,
   "metadata": {
    "ExecuteTime": {
     "end_time": "2019-04-05T04:00:17.837666Z",
     "start_time": "2019-04-05T04:00:17.549780Z"
    }
   },
   "outputs": [],
   "source": [
    "import keepa"
   ]
  },
  {
   "cell_type": "code",
   "execution_count": 3,
   "metadata": {
    "ExecuteTime": {
     "end_time": "2019-04-05T04:00:19.363232Z",
     "start_time": "2019-04-05T04:00:17.837666Z"
    }
   },
   "outputs": [],
   "source": [
    "# establish interface with keepa (this is not a real key)\n",
    "mykey = 'PRIVATE'\n",
    "api = keepa.Keepa(mykey)\n",
    "products = api.query('B01H1I41AI')"
   ]
  },
  {
   "cell_type": "code",
   "execution_count": 4,
   "metadata": {
    "ExecuteTime": {
     "end_time": "2019-04-05T04:00:19.376250Z",
     "start_time": "2019-04-05T04:00:19.367841Z"
    }
   },
   "outputs": [
    {
     "name": "stdout",
     "output_type": "stream",
     "text": [
      "dict_keys(['csv', 'categories', 'imagesCSV', 'manufacturer', 'title', 'lastUpdate', 'lastPriceChange', 'rootCategory', 'productType', 'parentAsin', 'variationCSV', 'asin', 'domainId', 'type', 'hasReviews', 'ean', 'upc', 'mpn', 'trackingSince', 'brand', 'label', 'department', 'publisher', 'productGroup', 'partNumber', 'studio', 'genre', 'model', 'color', 'size', 'edition', 'platform', 'format', 'packageHeight', 'packageLength', 'packageWidth', 'packageWeight', 'packageQuantity', 'isAdultProduct', 'isEligibleForTradeIn', 'isEligibleForSuperSaverShipping', 'offers', 'buyBoxSellerIdHistory', 'isRedirectASIN', 'isSNS', 'author', 'binding', 'numberOfItems', 'numberOfPages', 'publicationDate', 'releaseDate', 'languages', 'lastRatingUpdate', 'ebayListingIds', 'lastEbayUpdate', 'eanList', 'upcList', 'liveOffersOrder', 'frequentlyBoughtTogether', 'features', 'description', 'hazardousMaterialType', 'promotions', 'newPriceIsMAP', 'coupon', 'availabilityAmazon', 'listedSince', 'fbaFees', 'variations', 'stats', 'offersSuccessful', 'g', 'categoryTree', 'data'])\n"
     ]
    }
   ],
   "source": [
    "#print (type(products[0]))\n",
    "product = products[0]\n",
    "print (product.keys())"
   ]
  },
  {
   "cell_type": "code",
   "execution_count": 5,
   "metadata": {
    "ExecuteTime": {
     "end_time": "2019-04-05T04:00:19.474697Z",
     "start_time": "2019-04-05T04:00:19.380249Z"
    }
   },
   "outputs": [
    {
     "name": "stdout",
     "output_type": "stream",
     "text": [
      "dict_keys(['AMAZON_time', 'AMAZON', 'NEW_time', 'NEW', 'USED_time', 'USED', 'SALES_time', 'SALES', 'LISTPRICE_time', 'LISTPRICE', 'COUNT_NEW_time', 'COUNT_NEW'])\n"
     ]
    }
   ],
   "source": [
    "print (product['data'].keys())"
   ]
  },
  {
   "cell_type": "code",
   "execution_count": 6,
   "metadata": {
    "ExecuteTime": {
     "end_time": "2019-04-05T04:00:19.577985Z",
     "start_time": "2019-04-05T04:00:19.474697Z"
    },
    "scrolled": false
   },
   "outputs": [
    {
     "name": "stdout",
     "output_type": "stream",
     "text": [
      "                Date   Price\n",
      " 2016-12-05 02:52:00   $4.96\n",
      " 2016-12-08 03:04:00   $4.84\n",
      " 2016-12-15 11:16:00   $4.86\n",
      " 2016-12-19 08:34:00   $4.62\n",
      " 2016-12-20 10:26:00   $4.39\n",
      " 2016-12-22 02:40:00   $3.96\n",
      " 2016-12-22 21:36:00   $3.81\n",
      " 2017-01-04 21:36:00   $4.64\n",
      " 2017-02-25 06:44:00   $12.69\n",
      " 2017-02-26 18:00:00   $11.78\n",
      " 2017-02-28 07:16:00   $11.19\n",
      " 2017-03-04 03:54:00   $9.60\n",
      " 2017-03-13 04:44:00   $7.97\n",
      " 2017-03-14 10:02:00   $7.58\n",
      " 2017-03-18 19:12:00   $6.50\n",
      " 2017-03-25 00:30:00   $5.35\n",
      " 2017-03-29 22:46:00   $4.66\n",
      " 2017-03-31 03:20:00   $4.62\n",
      " 2017-03-31 21:48:00   $4.39\n",
      " 2017-04-01 20:20:00   $4.21\n",
      " 2017-04-03 05:32:00   $27.00\n",
      " 2017-04-03 20:52:00   $26.53\n",
      " 2017-04-05 17:28:00   $23.94\n",
      " 2017-04-06 16:20:00   $22.74\n",
      " 2017-04-07 14:56:00   $21.60\n",
      " 2017-04-08 15:18:00   $20.52\n",
      " 2017-04-09 15:36:00   $19.49\n",
      " 2017-04-10 20:00:00   $18.37\n",
      " 2017-04-12 09:04:00   $17.45\n",
      " 2017-04-12 20:28:00   $16.58\n",
      " 2017-04-14 08:04:00   $15.75\n",
      " 2017-04-15 06:44:00   $14.96\n",
      " 2017-04-20 07:38:00   $13.49\n",
      " 2017-04-21 15:44:00   $12.82\n",
      " 2017-04-25 19:32:00   $11.86\n",
      " 2017-04-27 08:50:00   $11.27\n",
      " 2017-04-28 01:02:00   $10.71\n",
      " 2017-05-02 05:24:00   $10.41\n",
      " 2017-05-02 20:54:00   $9.89\n",
      " 2017-05-04 03:52:00   $9.40\n",
      " 2017-05-04 19:24:00   $8.93\n",
      " 2017-05-08 16:22:00   $8.68\n",
      " 2017-05-09 20:54:00   $8.26\n",
      " 2017-05-11 06:08:00   $7.92\n",
      " 2017-05-11 22:46:00   $7.59\n",
      " 2017-05-15 21:22:00   $7.23\n",
      " 2017-05-17 07:00:00   $6.87\n",
      " 2017-05-18 01:12:00   $6.53\n",
      " 2017-05-19 10:42:00   $6.22\n",
      " 2017-05-23 08:52:00   $5.99\n",
      " 2017-05-24 04:44:00   $5.69\n",
      " 2017-05-24 18:46:00   $5.41\n",
      " 2017-05-26 10:04:00   $5.14\n",
      " 2017-05-29 15:00:00   $4.95\n",
      " 2017-06-01 08:56:00   $4.70\n",
      " 2017-06-02 11:24:00   $4.32\n",
      " 2017-06-03 05:38:00   $4.31\n",
      " 2017-06-07 05:24:00   $4.28\n",
      " 2017-06-14 12:10:00   $4.88\n",
      " 2017-06-15 04:48:00   $8.25\n",
      " 2017-06-19 16:04:00   $15.38\n",
      " 2017-06-21 16:04:00   $17.32\n",
      " 2017-06-24 00:40:00   $15.63\n",
      " 2017-06-25 13:20:00   $14.93\n",
      " 2017-06-26 05:28:00   $13.47\n",
      " 2017-06-27 22:16:00   $27.00\n",
      " 2018-01-09 11:08:00   $25.38\n",
      " 2018-01-10 03:40:00   $27.00\n",
      " 2018-03-12 18:40:00   $19.33\n",
      " 2018-03-13 03:44:00   $27.00\n",
      " 2018-07-22 12:40:00   $26.81\n",
      " 2018-07-23 13:52:00   $25.47\n",
      " 2018-07-25 15:24:00   $22.09\n",
      " 2018-07-26 22:42:00   $20.99\n",
      " 2018-07-28 16:16:00   $19.10\n",
      " 2018-07-30 17:08:00   $17.24\n",
      " 2018-07-31 05:12:00   $16.38\n",
      " 2018-08-01 20:44:00   $15.77\n",
      " 2018-08-04 09:58:00   $13.99\n",
      " 2018-08-05 15:12:00   $12.63\n",
      " 2018-08-06 18:36:00   $12.00\n",
      " 2018-08-10 16:20:00   $9.80\n",
      " 2018-08-12 08:00:00   $9.31\n",
      " 2018-08-16 04:48:00   $7.65\n",
      " 2018-08-17 08:16:00   $7.27\n",
      " 2018-08-23 05:28:00   $5.38\n",
      " 2018-09-14 23:36:00   $27.00\n",
      " 2018-09-20 16:04:00   $5.20\n",
      " 2018-09-25 07:04:00   $5.21\n",
      " 2018-09-25 18:12:00   $5.88\n",
      " 2018-09-27 00:06:00   $27.00\n",
      " 2018-10-01 14:24:00   $6.06\n",
      " 2018-10-02 04:06:00   $5.76\n",
      " 2018-10-04 18:44:00   $6.00\n",
      " 2018-10-06 19:00:00   $5.88\n",
      " 2018-10-15 23:16:00   $5.89\n",
      " 2018-10-16 14:26:00   $5.90\n",
      " 2018-10-21 06:06:00   $5.92\n",
      " 2018-10-23 15:04:00   $24.96\n",
      " 2018-10-25 10:24:00   $26.26\n",
      " 2018-10-26 07:40:00   $24.95\n",
      " 2018-10-30 06:34:00   $21.96\n",
      " 2018-10-31 19:14:00   $19.50\n",
      " 2018-11-02 01:52:00   $17.60\n",
      " 2018-11-08 22:44:00   $12.29\n",
      " 2018-11-10 04:20:00   $11.68\n",
      " 2018-11-11 04:48:00   $11.10\n",
      " 2018-11-13 20:04:00   $9.52\n",
      " 2018-11-15 10:48:00   $9.04\n",
      " 2018-11-16 02:22:00   $8.59\n",
      " 2018-11-16 20:16:00   $8.16\n",
      " 2018-11-21 02:20:00   $6.64\n",
      " 2018-11-29 19:24:00   $5.44\n",
      " 2019-01-28 09:56:00   $5.56\n",
      " 2019-03-01 04:32:00   $27.00\n"
     ]
    }
   ],
   "source": [
    "# Access new price history and associated time data\n",
    "listprice = product['data']['LISTPRICE']\n",
    "listpricetime = product['data']['LISTPRICE_time']\n",
    "\n",
    "# print the first 10 prices\n",
    "print('%20s   %s' % ('Date', 'Price'))\n",
    "for i in range(len(listpricetime)):\n",
    "    print('%20s   $%.2f' % (listpricetime[i], listprice[i]))"
   ]
  },
  {
   "cell_type": "code",
   "execution_count": null,
   "metadata": {
    "ExecuteTime": {
     "end_time": "2019-04-05T03:59:38.597641Z",
     "start_time": "2019-04-05T03:59:38.567984Z"
    }
   },
   "outputs": [],
   "source": []
  },
  {
   "cell_type": "code",
   "execution_count": null,
   "metadata": {},
   "outputs": [],
   "source": []
  }
 ],
 "metadata": {
  "kernelspec": {
   "display_name": "Python 3",
   "language": "python",
   "name": "python3"
  },
  "language_info": {
   "codemirror_mode": {
    "name": "ipython",
    "version": 3
   },
   "file_extension": ".py",
   "mimetype": "text/x-python",
   "name": "python",
   "nbconvert_exporter": "python",
   "pygments_lexer": "ipython3",
   "version": "3.7.0"
  }
 },
 "nbformat": 4,
 "nbformat_minor": 2
}
